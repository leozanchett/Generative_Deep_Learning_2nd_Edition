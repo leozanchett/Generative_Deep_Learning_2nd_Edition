{
 "cells": [
  {
   "cell_type": "markdown",
   "metadata": {},
   "source": [
    "# 👀 Multilayer perceptron (MLP)"
   ]
  },
  {
   "cell_type": "markdown",
   "metadata": {},
   "source": [
    "In this notebook, we'll walk through the steps required to train your own multilayer perceptron on the CIFAR dataset"
   ]
  },
  {
   "cell_type": "code",
   "execution_count": 1,
   "metadata": {},
   "outputs": [],
   "source": [
    "#!pip install tensorflow\n",
    "#!pip install matplotlib\n",
    "#!pip install setuptools\n",
    "#!pip install --upgrade pip setuptools wheel\n",
    "#!pip install --upgrade tensorflow matplotlib\n",
    "#!pip install -U tensorflow-addons\n",
    "#!pip install --upgrade pip setuptools wheel\n",
    "#!pip install tensorflow matplotlib"
   ]
  },
  {
   "cell_type": "code",
   "execution_count": 2,
   "metadata": {},
   "outputs": [],
   "source": [
    "import numpy as np\n",
    "import matplotlib.pyplot as plt\n",
    "\n",
    "from tensorflow.keras import layers, models, optimizers, utils, datasets\n",
    "#from notebooks.utils import display"
   ]
  },
  {
   "cell_type": "markdown",
   "metadata": {
    "tags": []
   },
   "source": [
    "## 0. Parameters <a name=\"parameters\"></a>"
   ]
  },
  {
   "cell_type": "code",
   "execution_count": 3,
   "metadata": {},
   "outputs": [],
   "source": [
    "NUM_CLASSES = 10"
   ]
  },
  {
   "cell_type": "markdown",
   "metadata": {},
   "source": [
    "## 1. Prepare the Data <a name=\"prepare\"></a>"
   ]
  },
  {
   "cell_type": "code",
   "execution_count": 13,
   "metadata": {},
   "outputs": [],
   "source": [
    "(x_train, y_train), (x_test, y_test) = datasets.cifar10.load_data()"
   ]
  },
  {
   "cell_type": "code",
   "execution_count": 5,
   "metadata": {},
   "outputs": [
    {
     "data": {
      "text/plain": [
       "(50000, 32, 32, 3)"
      ]
     },
     "execution_count": 5,
     "metadata": {},
     "output_type": "execute_result"
    }
   ],
   "source": [
    "x_train.shape"
   ]
  },
  {
   "cell_type": "code",
   "execution_count": 8,
   "metadata": {},
   "outputs": [
    {
     "data": {
      "text/plain": [
       "array([59, 62, 63], dtype=uint8)"
      ]
     },
     "execution_count": 8,
     "metadata": {},
     "output_type": "execute_result"
    }
   ],
   "source": [
    "x_train[0][0][0]"
   ]
  },
  {
   "cell_type": "code",
   "execution_count": 15,
   "metadata": {},
   "outputs": [
    {
     "data": {
      "text/plain": [
       "array([[6],\n",
       "       [9],\n",
       "       [9],\n",
       "       [4],\n",
       "       [1],\n",
       "       [1],\n",
       "       [2],\n",
       "       [7],\n",
       "       [8],\n",
       "       [3]], dtype=uint8)"
      ]
     },
     "execution_count": 15,
     "metadata": {},
     "output_type": "execute_result"
    }
   ],
   "source": [
    "y_train[0:10]"
   ]
  },
  {
   "cell_type": "code",
   "execution_count": 16,
   "metadata": {},
   "outputs": [],
   "source": [
    "# Normalização dos dados de entrada (imagens)\n",
    "# Convertemos para float32 e dividimos por 255 para ter valores entre 0 e 1\n",
    "x_train = x_train.astype(\"float32\") / 255.0  # Dados de treino\n",
    "x_test = x_test.astype(\"float32\") / 255.0    # Dados de teste\n",
    "\n",
    "# Conversão das labels para one-hot encoding\n",
    "# Ex: label 2 vira [0,0,1,0,0,0,0,0,0,0] \n",
    "y_train = utils.to_categorical(y_train, NUM_CLASSES)  # Labels de treino\n",
    "y_test = utils.to_categorical(y_test, NUM_CLASSES)    # Labels de teste"
   ]
  },
  {
   "cell_type": "code",
   "execution_count": 18,
   "metadata": {},
   "outputs": [
    {
     "data": {
      "text/plain": [
       "array([[0., 0., 0., 0., 0., 0., 1., 0., 0., 0.],\n",
       "       [0., 0., 0., 0., 0., 0., 0., 0., 0., 1.],\n",
       "       [0., 0., 0., 0., 0., 0., 0., 0., 0., 1.],\n",
       "       [0., 0., 0., 0., 1., 0., 0., 0., 0., 0.],\n",
       "       [0., 1., 0., 0., 0., 0., 0., 0., 0., 0.],\n",
       "       [0., 1., 0., 0., 0., 0., 0., 0., 0., 0.],\n",
       "       [0., 0., 1., 0., 0., 0., 0., 0., 0., 0.],\n",
       "       [0., 0., 0., 0., 0., 0., 0., 1., 0., 0.],\n",
       "       [0., 0., 0., 0., 0., 0., 0., 0., 1., 0.],\n",
       "       [0., 0., 0., 1., 0., 0., 0., 0., 0., 0.]])"
      ]
     },
     "execution_count": 18,
     "metadata": {},
     "output_type": "execute_result"
    }
   ],
   "source": [
    "y_train[0:10]"
   ]
  },
  {
   "cell_type": "code",
   "execution_count": 17,
   "metadata": {},
   "outputs": [
    {
     "data": {
      "text/plain": [
       "array([0.23137255, 0.24313726, 0.24705882], dtype=float32)"
      ]
     },
     "execution_count": 17,
     "metadata": {},
     "output_type": "execute_result"
    }
   ],
   "source": [
    "x_train[0][0][0]"
   ]
  },
  {
   "cell_type": "code",
   "execution_count": 19,
   "metadata": {},
   "outputs": [
    {
     "data": {
      "text/plain": [
       "array([[[[0.23137255, 0.24313726, 0.24705882],\n",
       "         [0.16862746, 0.18039216, 0.1764706 ],\n",
       "         [0.19607843, 0.1882353 , 0.16862746],\n",
       "         ...,\n",
       "         [0.61960787, 0.5176471 , 0.42352942],\n",
       "         [0.59607846, 0.49019608, 0.4       ],\n",
       "         [0.5803922 , 0.4862745 , 0.40392157]],\n",
       "\n",
       "        [[0.0627451 , 0.07843138, 0.07843138],\n",
       "         [0.        , 0.        , 0.        ],\n",
       "         [0.07058824, 0.03137255, 0.        ],\n",
       "         ...,\n",
       "         [0.48235294, 0.34509805, 0.21568628],\n",
       "         [0.46666667, 0.3254902 , 0.19607843],\n",
       "         [0.47843137, 0.34117648, 0.22352941]],\n",
       "\n",
       "        [[0.09803922, 0.09411765, 0.08235294],\n",
       "         [0.0627451 , 0.02745098, 0.        ],\n",
       "         [0.19215687, 0.10588235, 0.03137255],\n",
       "         ...,\n",
       "         [0.4627451 , 0.32941177, 0.19607843],\n",
       "         [0.47058824, 0.32941177, 0.19607843],\n",
       "         [0.42745098, 0.28627452, 0.16470589]],\n",
       "\n",
       "        ...,\n",
       "\n",
       "        [[0.8156863 , 0.6666667 , 0.3764706 ],\n",
       "         [0.7882353 , 0.6       , 0.13333334],\n",
       "         [0.7764706 , 0.6313726 , 0.10196079],\n",
       "         ...,\n",
       "         [0.627451  , 0.52156866, 0.27450982],\n",
       "         [0.21960784, 0.12156863, 0.02745098],\n",
       "         [0.20784314, 0.13333334, 0.07843138]],\n",
       "\n",
       "        [[0.7058824 , 0.54509807, 0.3764706 ],\n",
       "         [0.6784314 , 0.48235294, 0.16470589],\n",
       "         [0.7294118 , 0.5647059 , 0.11764706],\n",
       "         ...,\n",
       "         [0.72156864, 0.5803922 , 0.36862746],\n",
       "         [0.38039216, 0.24313726, 0.13333334],\n",
       "         [0.3254902 , 0.20784314, 0.13333334]],\n",
       "\n",
       "        [[0.69411767, 0.5647059 , 0.45490196],\n",
       "         [0.65882355, 0.5058824 , 0.36862746],\n",
       "         [0.7019608 , 0.5568628 , 0.34117648],\n",
       "         ...,\n",
       "         [0.84705883, 0.72156864, 0.54901963],\n",
       "         [0.5921569 , 0.4627451 , 0.32941177],\n",
       "         [0.48235294, 0.36078432, 0.28235295]]],\n",
       "\n",
       "\n",
       "       [[[0.6039216 , 0.69411767, 0.73333335],\n",
       "         [0.49411765, 0.5372549 , 0.53333336],\n",
       "         [0.4117647 , 0.40784314, 0.37254903],\n",
       "         ...,\n",
       "         [0.35686275, 0.37254903, 0.2784314 ],\n",
       "         [0.34117648, 0.3529412 , 0.2784314 ],\n",
       "         [0.30980393, 0.31764707, 0.27450982]],\n",
       "\n",
       "        [[0.54901963, 0.627451  , 0.6627451 ],\n",
       "         [0.5686275 , 0.6       , 0.6039216 ],\n",
       "         [0.49019608, 0.49019608, 0.4627451 ],\n",
       "         ...,\n",
       "         [0.3764706 , 0.3882353 , 0.30588236],\n",
       "         [0.3019608 , 0.3137255 , 0.24313726],\n",
       "         [0.2784314 , 0.28627452, 0.23921569]],\n",
       "\n",
       "        [[0.54901963, 0.60784316, 0.6431373 ],\n",
       "         [0.54509807, 0.57254905, 0.58431375],\n",
       "         [0.4509804 , 0.4509804 , 0.4392157 ],\n",
       "         ...,\n",
       "         [0.30980393, 0.32156864, 0.2509804 ],\n",
       "         [0.26666668, 0.27450982, 0.21568628],\n",
       "         [0.2627451 , 0.27058825, 0.21568628]],\n",
       "\n",
       "        ...,\n",
       "\n",
       "        [[0.6862745 , 0.654902  , 0.6509804 ],\n",
       "         [0.6117647 , 0.6039216 , 0.627451  ],\n",
       "         [0.6039216 , 0.627451  , 0.6666667 ],\n",
       "         ...,\n",
       "         [0.16470589, 0.13333334, 0.14117648],\n",
       "         [0.23921569, 0.20784314, 0.22352941],\n",
       "         [0.3647059 , 0.3254902 , 0.35686275]],\n",
       "\n",
       "        [[0.64705884, 0.6039216 , 0.5019608 ],\n",
       "         [0.6117647 , 0.59607846, 0.50980395],\n",
       "         [0.62352943, 0.6313726 , 0.5568628 ],\n",
       "         ...,\n",
       "         [0.40392157, 0.3647059 , 0.3764706 ],\n",
       "         [0.48235294, 0.44705883, 0.47058824],\n",
       "         [0.5137255 , 0.4745098 , 0.5137255 ]],\n",
       "\n",
       "        [[0.6392157 , 0.5803922 , 0.47058824],\n",
       "         [0.61960787, 0.5803922 , 0.47843137],\n",
       "         [0.6392157 , 0.6117647 , 0.52156866],\n",
       "         ...,\n",
       "         [0.56078434, 0.52156866, 0.54509807],\n",
       "         [0.56078434, 0.5254902 , 0.5568628 ],\n",
       "         [0.56078434, 0.52156866, 0.5647059 ]]],\n",
       "\n",
       "\n",
       "       [[[1.        , 1.        , 1.        ],\n",
       "         [0.99215686, 0.99215686, 0.99215686],\n",
       "         [0.99215686, 0.99215686, 0.99215686],\n",
       "         ...,\n",
       "         [0.99215686, 0.99215686, 0.99215686],\n",
       "         [0.99215686, 0.99215686, 0.99215686],\n",
       "         [0.99215686, 0.99215686, 0.99215686]],\n",
       "\n",
       "        [[1.        , 1.        , 1.        ],\n",
       "         [1.        , 1.        , 1.        ],\n",
       "         [1.        , 1.        , 1.        ],\n",
       "         ...,\n",
       "         [1.        , 1.        , 1.        ],\n",
       "         [1.        , 1.        , 1.        ],\n",
       "         [1.        , 1.        , 1.        ]],\n",
       "\n",
       "        [[1.        , 1.        , 1.        ],\n",
       "         [0.99607843, 0.99607843, 0.99607843],\n",
       "         [0.99607843, 0.99607843, 0.99607843],\n",
       "         ...,\n",
       "         [0.99607843, 0.99607843, 0.99607843],\n",
       "         [0.99607843, 0.99607843, 0.99607843],\n",
       "         [0.99607843, 0.99607843, 0.99607843]],\n",
       "\n",
       "        ...,\n",
       "\n",
       "        [[0.44313726, 0.47058824, 0.4392157 ],\n",
       "         [0.43529412, 0.4627451 , 0.43529412],\n",
       "         [0.4117647 , 0.4392157 , 0.41568628],\n",
       "         ...,\n",
       "         [0.28235295, 0.31764707, 0.3137255 ],\n",
       "         [0.28235295, 0.3137255 , 0.30980393],\n",
       "         [0.28235295, 0.3137255 , 0.30980393]],\n",
       "\n",
       "        [[0.43529412, 0.4627451 , 0.43137255],\n",
       "         [0.40784314, 0.43529412, 0.40784314],\n",
       "         [0.3882353 , 0.41568628, 0.38431373],\n",
       "         ...,\n",
       "         [0.26666668, 0.29411766, 0.28627452],\n",
       "         [0.27450982, 0.29803923, 0.29411766],\n",
       "         [0.30588236, 0.32941177, 0.32156864]],\n",
       "\n",
       "        [[0.41568628, 0.44313726, 0.4117647 ],\n",
       "         [0.3882353 , 0.41568628, 0.38431373],\n",
       "         [0.37254903, 0.4       , 0.36862746],\n",
       "         ...,\n",
       "         [0.30588236, 0.33333334, 0.3254902 ],\n",
       "         [0.30980393, 0.33333334, 0.3254902 ],\n",
       "         [0.3137255 , 0.3372549 , 0.32941177]]],\n",
       "\n",
       "\n",
       "       ...,\n",
       "\n",
       "\n",
       "       [[[0.10980392, 0.13725491, 0.15294118],\n",
       "         [0.11764706, 0.13333334, 0.17254902],\n",
       "         [0.12941177, 0.17254902, 0.18431373],\n",
       "         ...,\n",
       "         [0.16862746, 0.21960784, 0.1764706 ],\n",
       "         [0.20392157, 0.2509804 , 0.20784314],\n",
       "         [0.18039216, 0.22745098, 0.18431373]],\n",
       "\n",
       "        [[0.10588235, 0.11764706, 0.14901961],\n",
       "         [0.10588235, 0.10980392, 0.16078432],\n",
       "         [0.08235294, 0.12156863, 0.15294118],\n",
       "         ...,\n",
       "         [0.4392157 , 0.53333336, 0.38039216],\n",
       "         [0.45882353, 0.54901963, 0.39607844],\n",
       "         [0.4509804 , 0.5411765 , 0.39215687]],\n",
       "\n",
       "        [[0.13333334, 0.14117648, 0.16470589],\n",
       "         [0.12941177, 0.12941177, 0.16862746],\n",
       "         [0.09411765, 0.11764706, 0.15686275],\n",
       "         ...,\n",
       "         [0.6862745 , 0.8156863 , 0.56078434],\n",
       "         [0.69411767, 0.81960785, 0.5647059 ],\n",
       "         [0.6901961 , 0.8156863 , 0.56078434]],\n",
       "\n",
       "        ...,\n",
       "\n",
       "        [[0.5568628 , 0.6901961 , 0.4627451 ],\n",
       "         [0.5568628 , 0.6901961 , 0.4627451 ],\n",
       "         [0.5882353 , 0.72156864, 0.49803922],\n",
       "         ...,\n",
       "         [0.5254902 , 0.6862745 , 0.46666667],\n",
       "         [0.5019608 , 0.65882355, 0.4392157 ],\n",
       "         [0.5254902 , 0.6862745 , 0.46666667]],\n",
       "\n",
       "        [[0.54901963, 0.6901961 , 0.4862745 ],\n",
       "         [0.5686275 , 0.7058824 , 0.5058824 ],\n",
       "         [0.5882353 , 0.7294118 , 0.5254902 ],\n",
       "         ...,\n",
       "         [0.5137255 , 0.6666667 , 0.46666667],\n",
       "         [0.50980395, 0.6666667 , 0.46666667],\n",
       "         [0.47843137, 0.63529414, 0.43529412]],\n",
       "\n",
       "        [[0.5254902 , 0.67058825, 0.48235294],\n",
       "         [0.53333336, 0.67058825, 0.4862745 ],\n",
       "         [0.53333336, 0.67058825, 0.4862745 ],\n",
       "         ...,\n",
       "         [0.41568628, 0.5647059 , 0.39215687],\n",
       "         [0.40784314, 0.5568628 , 0.3882353 ],\n",
       "         [0.39607844, 0.54901963, 0.3764706 ]]],\n",
       "\n",
       "\n",
       "       [[[0.5254902 , 0.7294118 , 0.8745098 ],\n",
       "         [0.5137255 , 0.72156864, 0.8627451 ],\n",
       "         [0.5019608 , 0.7137255 , 0.85490197],\n",
       "         ...,\n",
       "         [0.49803922, 0.70980394, 0.87058824],\n",
       "         [0.49803922, 0.70980394, 0.87058824],\n",
       "         [0.5019608 , 0.7137255 , 0.8745098 ]],\n",
       "\n",
       "        [[0.52156866, 0.7411765 , 0.89411765],\n",
       "         [0.5058824 , 0.7294118 , 0.8784314 ],\n",
       "         [0.5019608 , 0.7294118 , 0.8784314 ],\n",
       "         ...,\n",
       "         [0.49803922, 0.7176471 , 0.8784314 ],\n",
       "         [0.49803922, 0.7176471 , 0.8784314 ],\n",
       "         [0.5019608 , 0.72156864, 0.88235295]],\n",
       "\n",
       "        [[0.5019608 , 0.7254902 , 0.8862745 ],\n",
       "         [0.49803922, 0.7137255 , 0.8745098 ],\n",
       "         [0.5019608 , 0.7137255 , 0.8745098 ],\n",
       "         ...,\n",
       "         [0.49411765, 0.70980394, 0.87058824],\n",
       "         [0.49411765, 0.70980394, 0.87058824],\n",
       "         [0.49411765, 0.7058824 , 0.8666667 ]],\n",
       "\n",
       "        ...,\n",
       "\n",
       "        [[0.68235296, 0.8156863 , 0.92156863],\n",
       "         [0.67058825, 0.80784315, 0.8980392 ],\n",
       "         [0.60784316, 0.7411765 , 0.84705883],\n",
       "         ...,\n",
       "         [0.10588235, 0.36862746, 0.53333336],\n",
       "         [0.11372549, 0.3764706 , 0.5372549 ],\n",
       "         [0.10980392, 0.36862746, 0.53333336]],\n",
       "\n",
       "        [[0.7607843 , 0.8666667 , 0.95686275],\n",
       "         [0.7411765 , 0.84313726, 0.9372549 ],\n",
       "         [0.62352943, 0.76862746, 0.88235295],\n",
       "         ...,\n",
       "         [0.11764706, 0.37254903, 0.5411765 ],\n",
       "         [0.11764706, 0.3764706 , 0.54509807],\n",
       "         [0.11764706, 0.37254903, 0.54901963]],\n",
       "\n",
       "        [[0.75686276, 0.8509804 , 0.92941177],\n",
       "         [0.70980394, 0.8156863 , 0.9019608 ],\n",
       "         [0.65882355, 0.7882353 , 0.8901961 ],\n",
       "         ...,\n",
       "         [0.12156863, 0.36862746, 0.53333336],\n",
       "         [0.1254902 , 0.36862746, 0.5372549 ],\n",
       "         [0.1254902 , 0.36862746, 0.5411765 ]]],\n",
       "\n",
       "\n",
       "       [[[0.49019608, 0.49019608, 0.45490196],\n",
       "         [0.43137255, 0.39607844, 0.35686275],\n",
       "         [0.4       , 0.3529412 , 0.3254902 ],\n",
       "         ...,\n",
       "         [0.7921569 , 0.8117647 , 0.8392157 ],\n",
       "         [0.78431374, 0.8039216 , 0.83137256],\n",
       "         [0.7921569 , 0.8156863 , 0.8392157 ]],\n",
       "\n",
       "        [[0.5568628 , 0.57254905, 0.5568628 ],\n",
       "         [0.57254905, 0.5647059 , 0.54509807],\n",
       "         [0.6901961 , 0.6745098 , 0.6666667 ],\n",
       "         ...,\n",
       "         [0.7647059 , 0.7882353 , 0.8039216 ],\n",
       "         [0.7764706 , 0.8039216 , 0.81960785],\n",
       "         [0.8       , 0.827451  , 0.84313726]],\n",
       "\n",
       "        [[0.7058824 , 0.7254902 , 0.7176471 ],\n",
       "         [0.56078434, 0.57254905, 0.57254905],\n",
       "         [0.6117647 , 0.6156863 , 0.6156863 ],\n",
       "         ...,\n",
       "         [0.47843137, 0.43529412, 0.44313726],\n",
       "         [0.54509807, 0.5019608 , 0.5137255 ],\n",
       "         [0.61960787, 0.5764706 , 0.5882353 ]],\n",
       "\n",
       "        ...,\n",
       "\n",
       "        [[0.40784314, 0.32156864, 0.16078432],\n",
       "         [0.39607844, 0.3137255 , 0.15294118],\n",
       "         [0.39607844, 0.31764707, 0.14901961],\n",
       "         ...,\n",
       "         [0.49411765, 0.40392157, 0.2627451 ],\n",
       "         [0.49411765, 0.40392157, 0.27058825],\n",
       "         [0.49019608, 0.39607844, 0.26666668]],\n",
       "\n",
       "        [[0.40784314, 0.31764707, 0.15686275],\n",
       "         [0.4117647 , 0.32941177, 0.16078432],\n",
       "         [0.42745098, 0.34509805, 0.16862746],\n",
       "         ...,\n",
       "         [0.5411765 , 0.44313726, 0.30588236],\n",
       "         [0.5372549 , 0.44313726, 0.3137255 ],\n",
       "         [0.5372549 , 0.4392157 , 0.31764707]],\n",
       "\n",
       "        [[0.4117647 , 0.3254902 , 0.16470589],\n",
       "         [0.42352942, 0.34117648, 0.1764706 ],\n",
       "         [0.4509804 , 0.36862746, 0.19607843],\n",
       "         ...,\n",
       "         [0.56078434, 0.45882353, 0.32156864],\n",
       "         [0.56078434, 0.45490196, 0.32941177],\n",
       "         [0.5647059 , 0.45490196, 0.3372549 ]]]], dtype=float32)"
      ]
     },
     "metadata": {},
     "output_type": "display_data"
    },
    {
     "name": "stdout",
     "output_type": "stream",
     "text": [
      "[[0. 0. 0. 0. 0. 0. 1. 0. 0. 0.]\n",
      " [0. 0. 0. 0. 0. 0. 0. 0. 0. 1.]\n",
      " [0. 0. 0. 0. 0. 0. 0. 0. 0. 1.]\n",
      " [0. 0. 0. 0. 1. 0. 0. 0. 0. 0.]\n",
      " [0. 1. 0. 0. 0. 0. 0. 0. 0. 0.]\n",
      " [0. 1. 0. 0. 0. 0. 0. 0. 0. 0.]\n",
      " [0. 0. 1. 0. 0. 0. 0. 0. 0. 0.]\n",
      " [0. 0. 0. 0. 0. 0. 0. 1. 0. 0.]\n",
      " [0. 0. 0. 0. 0. 0. 0. 0. 1. 0.]\n",
      " [0. 0. 0. 1. 0. 0. 0. 0. 0. 0.]]\n"
     ]
    }
   ],
   "source": [
    "display(x_train[:10])\n",
    "print(y_train[:10])"
   ]
  },
  {
   "cell_type": "code",
   "execution_count": 20,
   "metadata": {},
   "outputs": [
    {
     "data": {
      "text/plain": [
       "(32, 32, 3)"
      ]
     },
     "execution_count": 20,
     "metadata": {},
     "output_type": "execute_result"
    }
   ],
   "source": [
    "# O shape (32, 32, 3) indica que cada imagem tem:\n",
    "# - 32 pixels de altura\n",
    "# - 32 pixels de largura  \n",
    "# - 3 canais de cores (RGB - vermelho, verde e azul)\n",
    "x_train[0].shape\n"
   ]
  },
  {
   "cell_type": "markdown",
   "metadata": {},
   "source": [
    "## 2. Build the model <a name=\"build\"></a>"
   ]
  },
  {
   "cell_type": "code",
   "execution_count": 31,
   "metadata": {},
   "outputs": [
    {
     "data": {
      "text/plain": [
       "<KerasTensor shape=(None, 32, 32, 3), dtype=float32, sparse=False, name=keras_tensor_3>"
      ]
     },
     "execution_count": 31,
     "metadata": {},
     "output_type": "execute_result"
    }
   ],
   "source": [
    "# layers.Input cria uma camada de entrada para a rede neural\n",
    "# Especifica o formato dos dados que a rede vai receber:\n",
    "# - 32 pixels de altura\n",
    "# - 32 pixels de largura\n",
    "# - 3 canais de cores (RGB)\n",
    "input_layer = layers.Input((32, 32, 3))\n",
    "input_layer"
   ]
  },
  {
   "cell_type": "code",
   "execution_count": 32,
   "metadata": {},
   "outputs": [
    {
     "data": {
      "text/html": [
       "<pre style=\"white-space:pre;overflow-x:auto;line-height:normal;font-family:Menlo,'DejaVu Sans Mono',consolas,'Courier New',monospace\"><span style=\"font-weight: bold\">Model: \"functional\"</span>\n",
       "</pre>\n"
      ],
      "text/plain": [
       "\u001b[1mModel: \"functional\"\u001b[0m\n"
      ]
     },
     "metadata": {},
     "output_type": "display_data"
    },
    {
     "data": {
      "text/html": [
       "<pre style=\"white-space:pre;overflow-x:auto;line-height:normal;font-family:Menlo,'DejaVu Sans Mono',consolas,'Courier New',monospace\">┏━━━━━━━━━━━━━━━━━━━━━━━━━━━━━━━━━┳━━━━━━━━━━━━━━━━━━━━━━━━┳━━━━━━━━━━━━━━━┓\n",
       "┃<span style=\"font-weight: bold\"> Layer (type)                    </span>┃<span style=\"font-weight: bold\"> Output Shape           </span>┃<span style=\"font-weight: bold\">       Param # </span>┃\n",
       "┡━━━━━━━━━━━━━━━━━━━━━━━━━━━━━━━━━╇━━━━━━━━━━━━━━━━━━━━━━━━╇━━━━━━━━━━━━━━━┩\n",
       "│ input_layer_4 (<span style=\"color: #0087ff; text-decoration-color: #0087ff\">InputLayer</span>)      │ (<span style=\"color: #00d7ff; text-decoration-color: #00d7ff\">None</span>, <span style=\"color: #00af00; text-decoration-color: #00af00\">32</span>, <span style=\"color: #00af00; text-decoration-color: #00af00\">32</span>, <span style=\"color: #00af00; text-decoration-color: #00af00\">3</span>)      │             <span style=\"color: #00af00; text-decoration-color: #00af00\">0</span> │\n",
       "├─────────────────────────────────┼────────────────────────┼───────────────┤\n",
       "│ flatten (<span style=\"color: #0087ff; text-decoration-color: #0087ff\">Flatten</span>)               │ (<span style=\"color: #00d7ff; text-decoration-color: #00d7ff\">None</span>, <span style=\"color: #00af00; text-decoration-color: #00af00\">3072</span>)           │             <span style=\"color: #00af00; text-decoration-color: #00af00\">0</span> │\n",
       "├─────────────────────────────────┼────────────────────────┼───────────────┤\n",
       "│ dense (<span style=\"color: #0087ff; text-decoration-color: #0087ff\">Dense</span>)                   │ (<span style=\"color: #00d7ff; text-decoration-color: #00d7ff\">None</span>, <span style=\"color: #00af00; text-decoration-color: #00af00\">200</span>)            │       <span style=\"color: #00af00; text-decoration-color: #00af00\">614,600</span> │\n",
       "├─────────────────────────────────┼────────────────────────┼───────────────┤\n",
       "│ dense_1 (<span style=\"color: #0087ff; text-decoration-color: #0087ff\">Dense</span>)                 │ (<span style=\"color: #00d7ff; text-decoration-color: #00d7ff\">None</span>, <span style=\"color: #00af00; text-decoration-color: #00af00\">150</span>)            │        <span style=\"color: #00af00; text-decoration-color: #00af00\">30,150</span> │\n",
       "├─────────────────────────────────┼────────────────────────┼───────────────┤\n",
       "│ dense_2 (<span style=\"color: #0087ff; text-decoration-color: #0087ff\">Dense</span>)                 │ (<span style=\"color: #00d7ff; text-decoration-color: #00d7ff\">None</span>, <span style=\"color: #00af00; text-decoration-color: #00af00\">10</span>)             │         <span style=\"color: #00af00; text-decoration-color: #00af00\">1,510</span> │\n",
       "└─────────────────────────────────┴────────────────────────┴───────────────┘\n",
       "</pre>\n"
      ],
      "text/plain": [
       "┏━━━━━━━━━━━━━━━━━━━━━━━━━━━━━━━━━┳━━━━━━━━━━━━━━━━━━━━━━━━┳━━━━━━━━━━━━━━━┓\n",
       "┃\u001b[1m \u001b[0m\u001b[1mLayer (type)                   \u001b[0m\u001b[1m \u001b[0m┃\u001b[1m \u001b[0m\u001b[1mOutput Shape          \u001b[0m\u001b[1m \u001b[0m┃\u001b[1m \u001b[0m\u001b[1m      Param #\u001b[0m\u001b[1m \u001b[0m┃\n",
       "┡━━━━━━━━━━━━━━━━━━━━━━━━━━━━━━━━━╇━━━━━━━━━━━━━━━━━━━━━━━━╇━━━━━━━━━━━━━━━┩\n",
       "│ input_layer_4 (\u001b[38;5;33mInputLayer\u001b[0m)      │ (\u001b[38;5;45mNone\u001b[0m, \u001b[38;5;34m32\u001b[0m, \u001b[38;5;34m32\u001b[0m, \u001b[38;5;34m3\u001b[0m)      │             \u001b[38;5;34m0\u001b[0m │\n",
       "├─────────────────────────────────┼────────────────────────┼───────────────┤\n",
       "│ flatten (\u001b[38;5;33mFlatten\u001b[0m)               │ (\u001b[38;5;45mNone\u001b[0m, \u001b[38;5;34m3072\u001b[0m)           │             \u001b[38;5;34m0\u001b[0m │\n",
       "├─────────────────────────────────┼────────────────────────┼───────────────┤\n",
       "│ dense (\u001b[38;5;33mDense\u001b[0m)                   │ (\u001b[38;5;45mNone\u001b[0m, \u001b[38;5;34m200\u001b[0m)            │       \u001b[38;5;34m614,600\u001b[0m │\n",
       "├─────────────────────────────────┼────────────────────────┼───────────────┤\n",
       "│ dense_1 (\u001b[38;5;33mDense\u001b[0m)                 │ (\u001b[38;5;45mNone\u001b[0m, \u001b[38;5;34m150\u001b[0m)            │        \u001b[38;5;34m30,150\u001b[0m │\n",
       "├─────────────────────────────────┼────────────────────────┼───────────────┤\n",
       "│ dense_2 (\u001b[38;5;33mDense\u001b[0m)                 │ (\u001b[38;5;45mNone\u001b[0m, \u001b[38;5;34m10\u001b[0m)             │         \u001b[38;5;34m1,510\u001b[0m │\n",
       "└─────────────────────────────────┴────────────────────────┴───────────────┘\n"
      ]
     },
     "metadata": {},
     "output_type": "display_data"
    },
    {
     "data": {
      "text/html": [
       "<pre style=\"white-space:pre;overflow-x:auto;line-height:normal;font-family:Menlo,'DejaVu Sans Mono',consolas,'Courier New',monospace\"><span style=\"font-weight: bold\"> Total params: </span><span style=\"color: #00af00; text-decoration-color: #00af00\">646,260</span> (2.47 MB)\n",
       "</pre>\n"
      ],
      "text/plain": [
       "\u001b[1m Total params: \u001b[0m\u001b[38;5;34m646,260\u001b[0m (2.47 MB)\n"
      ]
     },
     "metadata": {},
     "output_type": "display_data"
    },
    {
     "data": {
      "text/html": [
       "<pre style=\"white-space:pre;overflow-x:auto;line-height:normal;font-family:Menlo,'DejaVu Sans Mono',consolas,'Courier New',monospace\"><span style=\"font-weight: bold\"> Trainable params: </span><span style=\"color: #00af00; text-decoration-color: #00af00\">646,260</span> (2.47 MB)\n",
       "</pre>\n"
      ],
      "text/plain": [
       "\u001b[1m Trainable params: \u001b[0m\u001b[38;5;34m646,260\u001b[0m (2.47 MB)\n"
      ]
     },
     "metadata": {},
     "output_type": "display_data"
    },
    {
     "data": {
      "text/html": [
       "<pre style=\"white-space:pre;overflow-x:auto;line-height:normal;font-family:Menlo,'DejaVu Sans Mono',consolas,'Courier New',monospace\"><span style=\"font-weight: bold\"> Non-trainable params: </span><span style=\"color: #00af00; text-decoration-color: #00af00\">0</span> (0.00 B)\n",
       "</pre>\n"
      ],
      "text/plain": [
       "\u001b[1m Non-trainable params: \u001b[0m\u001b[38;5;34m0\u001b[0m (0.00 B)\n"
      ]
     },
     "metadata": {},
     "output_type": "display_data"
    }
   ],
   "source": [
    "# Criando a camada de entrada que recebe imagens 32x32 com 3 canais de cores\n",
    "input_layer = layers.Input((32, 32, 3))\n",
    "\n",
    "# Transformando a imagem 3D em um vetor 1D (flatten)\n",
    "x = layers.Flatten()(input_layer)\n",
    "\n",
    "# Primeira camada densa com 200 neurônios e função de ativação ReLU\n",
    "x = layers.Dense(200, activation=\"relu\")(x)\n",
    "\n",
    "# Segunda camada densa com 150 neurônios e função de ativação ReLU \n",
    "x = layers.Dense(150, activation=\"relu\")(x)\n",
    "\n",
    "# Camada de saída com 10 neurônios (um para cada classe) e softmax para probabilidades\n",
    "output_layer = layers.Dense(NUM_CLASSES, activation=\"softmax\")(x)\n",
    "\n",
    "# Criando o modelo conectando a entrada à saída\n",
    "model = models.Model(input_layer, output_layer)\n",
    "\n",
    "# Mostrando um resumo da arquitetura do modelo\n",
    "model.summary()"
   ]
  },
  {
   "cell_type": "markdown",
   "metadata": {
    "tags": []
   },
   "source": [
    "## 3. Train the model <a name=\"train\"></a>"
   ]
  },
  {
   "cell_type": "code",
   "execution_count": 33,
   "metadata": {},
   "outputs": [],
   "source": [
    "opt = optimizers.Adam(learning_rate=0.0005)\n",
    "model.compile(\n",
    "    loss=\"categorical_crossentropy\", optimizer=opt, metrics=[\"accuracy\"]\n",
    ")"
   ]
  },
  {
   "cell_type": "code",
   "execution_count": 34,
   "metadata": {},
   "outputs": [
    {
     "name": "stdout",
     "output_type": "stream",
     "text": [
      "Epoch 1/10\n",
      "\u001b[1m1563/1563\u001b[0m \u001b[32m━━━━━━━━━━━━━━━━━━━━\u001b[0m\u001b[37m\u001b[0m \u001b[1m8s\u001b[0m 4ms/step - accuracy: 0.2910 - loss: 1.9631\n",
      "Epoch 2/10\n",
      "\u001b[1m1563/1563\u001b[0m \u001b[32m━━━━━━━━━━━━━━━━━━━━\u001b[0m\u001b[37m\u001b[0m \u001b[1m7s\u001b[0m 4ms/step - accuracy: 0.3921 - loss: 1.6921\n",
      "Epoch 3/10\n",
      "\u001b[1m1563/1563\u001b[0m \u001b[32m━━━━━━━━━━━━━━━━━━━━\u001b[0m\u001b[37m\u001b[0m \u001b[1m6s\u001b[0m 4ms/step - accuracy: 0.4337 - loss: 1.5918\n",
      "Epoch 4/10\n",
      "\u001b[1m1563/1563\u001b[0m \u001b[32m━━━━━━━━━━━━━━━━━━━━\u001b[0m\u001b[37m\u001b[0m \u001b[1m6s\u001b[0m 4ms/step - accuracy: 0.4532 - loss: 1.5283\n",
      "Epoch 5/10\n",
      "\u001b[1m1563/1563\u001b[0m \u001b[32m━━━━━━━━━━━━━━━━━━━━\u001b[0m\u001b[37m\u001b[0m \u001b[1m7s\u001b[0m 4ms/step - accuracy: 0.4633 - loss: 1.4931\n",
      "Epoch 6/10\n",
      "\u001b[1m1563/1563\u001b[0m \u001b[32m━━━━━━━━━━━━━━━━━━━━\u001b[0m\u001b[37m\u001b[0m \u001b[1m7s\u001b[0m 4ms/step - accuracy: 0.4778 - loss: 1.4622\n",
      "Epoch 7/10\n",
      "\u001b[1m1563/1563\u001b[0m \u001b[32m━━━━━━━━━━━━━━━━━━━━\u001b[0m\u001b[37m\u001b[0m \u001b[1m7s\u001b[0m 4ms/step - accuracy: 0.4894 - loss: 1.4228\n",
      "Epoch 8/10\n",
      "\u001b[1m1563/1563\u001b[0m \u001b[32m━━━━━━━━━━━━━━━━━━━━\u001b[0m\u001b[37m\u001b[0m \u001b[1m7s\u001b[0m 4ms/step - accuracy: 0.5048 - loss: 1.3981\n",
      "Epoch 9/10\n",
      "\u001b[1m1563/1563\u001b[0m \u001b[32m━━━━━━━━━━━━━━━━━━━━\u001b[0m\u001b[37m\u001b[0m \u001b[1m7s\u001b[0m 4ms/step - accuracy: 0.5092 - loss: 1.3796\n",
      "Epoch 10/10\n",
      "\u001b[1m1563/1563\u001b[0m \u001b[32m━━━━━━━━━━━━━━━━━━━━\u001b[0m\u001b[37m\u001b[0m \u001b[1m7s\u001b[0m 4ms/step - accuracy: 0.5132 - loss: 1.3675\n"
     ]
    },
    {
     "data": {
      "text/plain": [
       "<keras.src.callbacks.history.History at 0x252fe9a3e90>"
      ]
     },
     "execution_count": 34,
     "metadata": {},
     "output_type": "execute_result"
    }
   ],
   "source": [
    "model.fit(x_train, y_train, batch_size=32, epochs=10, shuffle=True)"
   ]
  },
  {
   "cell_type": "markdown",
   "metadata": {
    "tags": []
   },
   "source": [
    "## 4. Evaluation <a name=\"evaluate\"></a>"
   ]
  },
  {
   "cell_type": "code",
   "execution_count": 35,
   "metadata": {},
   "outputs": [
    {
     "name": "stdout",
     "output_type": "stream",
     "text": [
      "\u001b[1m313/313\u001b[0m \u001b[32m━━━━━━━━━━━━━━━━━━━━\u001b[0m\u001b[37m\u001b[0m \u001b[1m1s\u001b[0m 2ms/step - accuracy: 0.4997 - loss: 1.4087\n"
     ]
    },
    {
     "data": {
      "text/plain": [
       "[1.4115816354751587, 0.49970000982284546]"
      ]
     },
     "execution_count": 35,
     "metadata": {},
     "output_type": "execute_result"
    }
   ],
   "source": [
    "model.evaluate(x_test, y_test)"
   ]
  },
  {
   "cell_type": "code",
   "execution_count": 36,
   "metadata": {},
   "outputs": [
    {
     "name": "stdout",
     "output_type": "stream",
     "text": [
      "\u001b[1m313/313\u001b[0m \u001b[32m━━━━━━━━━━━━━━━━━━━━\u001b[0m\u001b[37m\u001b[0m \u001b[1m1s\u001b[0m 2ms/step\n"
     ]
    }
   ],
   "source": [
    "CLASSES = np.array(\n",
    "    [\n",
    "        \"airplane\",\n",
    "        \"automobile\",\n",
    "        \"bird\",\n",
    "        \"cat\",\n",
    "        \"deer\",\n",
    "        \"dog\",\n",
    "        \"frog\",\n",
    "        \"horse\",\n",
    "        \"ship\",\n",
    "        \"truck\",\n",
    "    ]\n",
    ")\n",
    "\n",
    "preds = model.predict(x_test)\n",
    "preds_single = CLASSES[np.argmax(preds, axis=-1)]\n",
    "actual_single = CLASSES[np.argmax(y_test, axis=-1)]"
   ]
  },
  {
   "cell_type": "code",
   "execution_count": 48,
   "metadata": {},
   "outputs": [
    {
     "data": {
      "text/plain": [
       "array([0.01755732, 0.02156187, 0.02344639, 0.49950144, 0.08227228,\n",
       "       0.20801073, 0.06642825, 0.00744151, 0.06911303, 0.00466716],\n",
       "      dtype=float32)"
      ]
     },
     "metadata": {},
     "output_type": "display_data"
    },
    {
     "data": {
      "text/plain": [
       "3"
      ]
     },
     "metadata": {},
     "output_type": "display_data"
    }
   ],
   "source": [
    "display(preds[0])\n",
    "display(np.argmax(preds[0]))"
   ]
  },
  {
   "cell_type": "code",
   "execution_count": 45,
   "metadata": {},
   "outputs": [
    {
     "data": {
      "text/plain": [
       "array(['cat', 'truck', 'ship', 'ship', 'deer', 'frog', 'cat', 'frog',\n",
       "       'deer', 'automobile'], dtype='<U10')"
      ]
     },
     "metadata": {},
     "output_type": "display_data"
    },
    {
     "data": {
      "text/plain": [
       "array(['cat', 'ship', 'ship', 'airplane', 'frog', 'frog', 'automobile',\n",
       "       'frog', 'cat', 'automobile'], dtype='<U10')"
      ]
     },
     "metadata": {},
     "output_type": "display_data"
    }
   ],
   "source": [
    "display(preds_single[0:10])\n",
    "display(actual_single[0:10])\n"
   ]
  },
  {
   "cell_type": "code",
   "execution_count": 46,
   "metadata": {
    "scrolled": true
   },
   "outputs": [
    {
     "data": {
      "image/png": "[encoded data removed]",
      "text/plain": [
       "<Figure size 1500x300 with 10 Axes>"
      ]
     },
     "metadata": {},
     "output_type": "display_data"
    }
   ],
   "source": [
    "n_to_show = 10\n",
    "indices = np.random.choice(range(len(x_test)), n_to_show)\n",
    "\n",
    "fig = plt.figure(figsize=(15, 3))\n",
    "fig.subplots_adjust(hspace=0.4, wspace=0.4)\n",
    "\n",
    "for i, idx in enumerate(indices):\n",
    "    img = x_test[idx]\n",
    "    ax = fig.add_subplot(1, n_to_show, i + 1)\n",
    "    ax.axis(\"off\")\n",
    "    ax.text(\n",
    "        0.5,\n",
    "        -0.35,\n",
    "        \"pred = \" + str(preds_single[idx]),\n",
    "        fontsize=10,\n",
    "        ha=\"center\",\n",
    "        transform=ax.transAxes,\n",
    "    )\n",
    "    ax.text(\n",
    "        0.5,\n",
    "        -0.7,\n",
    "        \"act = \" + str(actual_single[idx]),\n",
    "        fontsize=10,\n",
    "        ha=\"center\",\n",
    "        transform=ax.transAxes,\n",
    "    )\n",
    "    ax.imshow(img)"
   ]
  }
 ],
 "metadata": {
  "kernelspec": {
   "display_name": "Python 3 (ipykernel)",
   "language": "python",
   "name": "python3"
  },
  "language_info": {
   "codemirror_mode": {
    "name": "ipython",
    "version": 3
   },
   "file_extension": ".py",
   "mimetype": "text/x-python",
   "name": "python",
   "nbconvert_exporter": "python",
   "pygments_lexer": "ipython3",
   "version": "3.11.9"
  },
  "vscode": {
   "interpreter": {
    "hash": "31f2aee4e71d21fbe5cf8b01ff0e069b9275f58929596ceb00d14d90e3e16cd6"
   }
  }
 },
 "nbformat": 4,
 "nbformat_minor": 4
}
